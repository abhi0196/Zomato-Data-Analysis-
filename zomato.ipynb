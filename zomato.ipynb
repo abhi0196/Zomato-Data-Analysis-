{
 "cells": [
  {
   "cell_type": "markdown",
   "id": "5e7f382d-abd0-4710-85d9-e4e2b0f8f002",
   "metadata": {},
   "source": [
    "# Data Analysis Project on Zomato "
   ]
  },
  {
   "cell_type": "code",
   "execution_count": 8,
   "id": "1c2e9a82-5556-431d-afd1-eaabae3f2ccd",
   "metadata": {},
   "outputs": [],
   "source": [
    "# importing libraries\n",
    "import pandas as pd \n",
    "import numpy as np \n",
    "import matplotlib.pyplot as plt\n",
    "import seaborn as sns"
   ]
  },
  {
   "cell_type": "code",
   "execution_count": 9,
   "id": "f562ed10-24e7-4451-8dd3-5892a5800488",
   "metadata": {},
   "outputs": [],
   "source": [
    "data = pd.read_csv(\"Zomato data .csv\")"
   ]
  },
  {
   "cell_type": "code",
   "execution_count": 10,
   "id": "e50f85e7-6fd7-4b83-a63e-657190523844",
   "metadata": {},
   "outputs": [
    {
     "data": {
      "text/html": [
       "<div>\n",
       "<style scoped>\n",
       "    .dataframe tbody tr th:only-of-type {\n",
       "        vertical-align: middle;\n",
       "    }\n",
       "\n",
       "    .dataframe tbody tr th {\n",
       "        vertical-align: top;\n",
       "    }\n",
       "\n",
       "    .dataframe thead th {\n",
       "        text-align: right;\n",
       "    }\n",
       "</style>\n",
       "<table border=\"1\" class=\"dataframe\">\n",
       "  <thead>\n",
       "    <tr style=\"text-align: right;\">\n",
       "      <th></th>\n",
       "      <th>name</th>\n",
       "      <th>online_order</th>\n",
       "      <th>book_table</th>\n",
       "      <th>rate</th>\n",
       "      <th>votes</th>\n",
       "      <th>approx_cost(for two people)</th>\n",
       "      <th>listed_in(type)</th>\n",
       "    </tr>\n",
       "  </thead>\n",
       "  <tbody>\n",
       "    <tr>\n",
       "      <th>0</th>\n",
       "      <td>Jalsa</td>\n",
       "      <td>Yes</td>\n",
       "      <td>Yes</td>\n",
       "      <td>4.1/5</td>\n",
       "      <td>775</td>\n",
       "      <td>800</td>\n",
       "      <td>Buffet</td>\n",
       "    </tr>\n",
       "    <tr>\n",
       "      <th>1</th>\n",
       "      <td>Spice Elephant</td>\n",
       "      <td>Yes</td>\n",
       "      <td>No</td>\n",
       "      <td>4.1/5</td>\n",
       "      <td>787</td>\n",
       "      <td>800</td>\n",
       "      <td>Buffet</td>\n",
       "    </tr>\n",
       "    <tr>\n",
       "      <th>2</th>\n",
       "      <td>San Churro Cafe</td>\n",
       "      <td>Yes</td>\n",
       "      <td>No</td>\n",
       "      <td>3.8/5</td>\n",
       "      <td>918</td>\n",
       "      <td>800</td>\n",
       "      <td>Buffet</td>\n",
       "    </tr>\n",
       "    <tr>\n",
       "      <th>3</th>\n",
       "      <td>Addhuri Udupi Bhojana</td>\n",
       "      <td>No</td>\n",
       "      <td>No</td>\n",
       "      <td>3.7/5</td>\n",
       "      <td>88</td>\n",
       "      <td>300</td>\n",
       "      <td>Buffet</td>\n",
       "    </tr>\n",
       "    <tr>\n",
       "      <th>4</th>\n",
       "      <td>Grand Village</td>\n",
       "      <td>No</td>\n",
       "      <td>No</td>\n",
       "      <td>3.8/5</td>\n",
       "      <td>166</td>\n",
       "      <td>600</td>\n",
       "      <td>Buffet</td>\n",
       "    </tr>\n",
       "  </tbody>\n",
       "</table>\n",
       "</div>"
      ],
      "text/plain": [
       "                    name online_order book_table   rate  votes  \\\n",
       "0                  Jalsa          Yes        Yes  4.1/5    775   \n",
       "1         Spice Elephant          Yes         No  4.1/5    787   \n",
       "2        San Churro Cafe          Yes         No  3.8/5    918   \n",
       "3  Addhuri Udupi Bhojana           No         No  3.7/5     88   \n",
       "4          Grand Village           No         No  3.8/5    166   \n",
       "\n",
       "   approx_cost(for two people) listed_in(type)  \n",
       "0                          800          Buffet  \n",
       "1                          800          Buffet  \n",
       "2                          800          Buffet  \n",
       "3                          300          Buffet  \n",
       "4                          600          Buffet  "
      ]
     },
     "execution_count": 10,
     "metadata": {},
     "output_type": "execute_result"
    }
   ],
   "source": [
    "data.head()"
   ]
  },
  {
   "cell_type": "markdown",
   "id": "96b94a73-8e8d-4f1c-b1d5-f76a63898339",
   "metadata": {},
   "source": [
    "convert the data type of column - rate"
   ]
  },
  {
   "cell_type": "code",
   "execution_count": 12,
   "id": "ef89b15c-58ff-45c3-a016-77fb30aeda28",
   "metadata": {},
   "outputs": [],
   "source": [
    "def handleRate(value):\n",
    "    value = str(value).split(\"/\")\n",
    "    value = value[0];\n",
    "    return float(value)"
   ]
  },
  {
   "cell_type": "code",
   "execution_count": 13,
   "id": "5f78fc92-4d28-43db-bf7c-2c547db26d55",
   "metadata": {},
   "outputs": [],
   "source": [
    "data[\"rate\"]=data[\"rate\"].apply(handleRate)"
   ]
  },
  {
   "cell_type": "code",
   "execution_count": 14,
   "id": "91fb142a-dde3-433f-b3f4-1975b5d6b9f6",
   "metadata": {},
   "outputs": [
    {
     "data": {
      "text/html": [
       "<div>\n",
       "<style scoped>\n",
       "    .dataframe tbody tr th:only-of-type {\n",
       "        vertical-align: middle;\n",
       "    }\n",
       "\n",
       "    .dataframe tbody tr th {\n",
       "        vertical-align: top;\n",
       "    }\n",
       "\n",
       "    .dataframe thead th {\n",
       "        text-align: right;\n",
       "    }\n",
       "</style>\n",
       "<table border=\"1\" class=\"dataframe\">\n",
       "  <thead>\n",
       "    <tr style=\"text-align: right;\">\n",
       "      <th></th>\n",
       "      <th>name</th>\n",
       "      <th>online_order</th>\n",
       "      <th>book_table</th>\n",
       "      <th>rate</th>\n",
       "      <th>votes</th>\n",
       "      <th>approx_cost(for two people)</th>\n",
       "      <th>listed_in(type)</th>\n",
       "    </tr>\n",
       "  </thead>\n",
       "  <tbody>\n",
       "    <tr>\n",
       "      <th>0</th>\n",
       "      <td>Jalsa</td>\n",
       "      <td>Yes</td>\n",
       "      <td>Yes</td>\n",
       "      <td>4.1</td>\n",
       "      <td>775</td>\n",
       "      <td>800</td>\n",
       "      <td>Buffet</td>\n",
       "    </tr>\n",
       "    <tr>\n",
       "      <th>1</th>\n",
       "      <td>Spice Elephant</td>\n",
       "      <td>Yes</td>\n",
       "      <td>No</td>\n",
       "      <td>4.1</td>\n",
       "      <td>787</td>\n",
       "      <td>800</td>\n",
       "      <td>Buffet</td>\n",
       "    </tr>\n",
       "    <tr>\n",
       "      <th>2</th>\n",
       "      <td>San Churro Cafe</td>\n",
       "      <td>Yes</td>\n",
       "      <td>No</td>\n",
       "      <td>3.8</td>\n",
       "      <td>918</td>\n",
       "      <td>800</td>\n",
       "      <td>Buffet</td>\n",
       "    </tr>\n",
       "    <tr>\n",
       "      <th>3</th>\n",
       "      <td>Addhuri Udupi Bhojana</td>\n",
       "      <td>No</td>\n",
       "      <td>No</td>\n",
       "      <td>3.7</td>\n",
       "      <td>88</td>\n",
       "      <td>300</td>\n",
       "      <td>Buffet</td>\n",
       "    </tr>\n",
       "    <tr>\n",
       "      <th>4</th>\n",
       "      <td>Grand Village</td>\n",
       "      <td>No</td>\n",
       "      <td>No</td>\n",
       "      <td>3.8</td>\n",
       "      <td>166</td>\n",
       "      <td>600</td>\n",
       "      <td>Buffet</td>\n",
       "    </tr>\n",
       "  </tbody>\n",
       "</table>\n",
       "</div>"
      ],
      "text/plain": [
       "                    name online_order book_table  rate  votes  \\\n",
       "0                  Jalsa          Yes        Yes   4.1    775   \n",
       "1         Spice Elephant          Yes         No   4.1    787   \n",
       "2        San Churro Cafe          Yes         No   3.8    918   \n",
       "3  Addhuri Udupi Bhojana           No         No   3.7     88   \n",
       "4          Grand Village           No         No   3.8    166   \n",
       "\n",
       "   approx_cost(for two people) listed_in(type)  \n",
       "0                          800          Buffet  \n",
       "1                          800          Buffet  \n",
       "2                          800          Buffet  \n",
       "3                          300          Buffet  \n",
       "4                          600          Buffet  "
      ]
     },
     "execution_count": 14,
     "metadata": {},
     "output_type": "execute_result"
    }
   ],
   "source": [
    "data.head()   "
   ]
  },
  {
   "cell_type": "code",
   "execution_count": 15,
   "id": "0d1244bb-588f-4d6c-acce-a7d06f164f1c",
   "metadata": {},
   "outputs": [
    {
     "name": "stdout",
     "output_type": "stream",
     "text": [
      "<class 'pandas.core.frame.DataFrame'>\n",
      "RangeIndex: 148 entries, 0 to 147\n",
      "Data columns (total 7 columns):\n",
      " #   Column                       Non-Null Count  Dtype  \n",
      "---  ------                       --------------  -----  \n",
      " 0   name                         148 non-null    object \n",
      " 1   online_order                 148 non-null    object \n",
      " 2   book_table                   148 non-null    object \n",
      " 3   rate                         148 non-null    float64\n",
      " 4   votes                        148 non-null    int64  \n",
      " 5   approx_cost(for two people)  148 non-null    int64  \n",
      " 6   listed_in(type)              148 non-null    object \n",
      "dtypes: float64(1), int64(2), object(4)\n",
      "memory usage: 8.2+ KB\n"
     ]
    }
   ],
   "source": [
    "data.info()"
   ]
  },
  {
   "cell_type": "code",
   "execution_count": 16,
   "id": "7238df3e-5cc2-482b-a107-308794059718",
   "metadata": {},
   "outputs": [
    {
     "data": {
      "text/plain": [
       "name                           False\n",
       "online_order                   False\n",
       "book_table                     False\n",
       "rate                           False\n",
       "votes                          False\n",
       "approx_cost(for two people)    False\n",
       "listed_in(type)                False\n",
       "dtype: bool"
      ]
     },
     "execution_count": 16,
     "metadata": {},
     "output_type": "execute_result"
    }
   ],
   "source": [
    "data.isnull().any()"
   ]
  },
  {
   "cell_type": "markdown",
   "id": "3bf2a13f-6c90-42b6-9e31-118b04ad1ea9",
   "metadata": {},
   "source": []
  },
  {
   "cell_type": "markdown",
   "id": "b3e0c6c7-59e1-427c-b710-16866d76966c",
   "metadata": {},
   "source": [
    "### Type of Restaurant with count"
   ]
  },
  {
   "cell_type": "code",
   "execution_count": 20,
   "id": "ead77a04-7017-4d57-aa72-7aee6b1bca35",
   "metadata": {},
   "outputs": [
    {
     "data": {
      "image/png": "[encoded data removed]",
      "text/plain": [
       "<Figure size 640x480 with 1 Axes>"
      ]
     },
     "metadata": {},
     "output_type": "display_data"
    }
   ],
   "source": [
    "sns.countplot(x=data['listed_in(type)'],hue=data[\"listed_in(type)\"])\n",
    "plt.xlabel(\"type of restaurant\")\n",
    "plt.show()"
   ]
  },
  {
   "cell_type": "markdown",
   "id": "6c2cb4ed-eccc-40ce-b46e-036706e552ef",
   "metadata": {},
   "source": [
    "##### conclusion - majority restaurant type is Dining (more than 100)"
   ]
  },
  {
   "cell_type": "markdown",
   "id": "4ed6c37c-4411-42fc-9f9d-e609786f7733",
   "metadata": {},
   "source": [
    "# votes of restaurant type"
   ]
  },
  {
   "cell_type": "code",
   "execution_count": 31,
   "id": "2ebe8c7f-7445-4baf-b2c8-b55a4991e1ff",
   "metadata": {},
   "outputs": [
    {
     "data": {
      "text/plain": [
       "Text(0, 0.5, 'count')"
      ]
     },
     "execution_count": 31,
     "metadata": {},
     "output_type": "execute_result"
    },
    {
     "data": {
      "image/png": "[encoded data removed]",
      "text/plain": [
       "<Figure size 640x480 with 1 Axes>"
      ]
     },
     "metadata": {},
     "output_type": "display_data"
    }
   ],
   "source": [
    "group = data.groupby(\"listed_in(type)\")[\"votes\"].sum()\n",
    "dresult = pd.DataFrame({\"votes\":group})\n",
    "plt.plot(dresult, color = \"gold\",marker=\"*\")\n",
    "plt.xlabel(\"type\", c= \"blue\")\n",
    "plt.ylabel(\"count\",c=\"blue\")"
   ]
  },
  {
   "cell_type": "markdown",
   "id": "74eabced-831e-418b-b2b3-28671dbab290",
   "metadata": {},
   "source": [
    "##### conclusion - dinning restaurant has received maximum voting"
   ]
  },
  {
   "cell_type": "markdown",
   "id": "2a7d4201-9ec7-46d5-90c0-cd2c0a6aae6d",
   "metadata": {},
   "source": [
    "# ratings "
   ]
  },
  {
   "cell_type": "code",
   "execution_count": 35,
   "id": "d21f98e1-c421-4714-994c-6ce6f4f262b5",
   "metadata": {},
   "outputs": [
    {
     "data": {
      "text/plain": [
       "Text(0.5, 1.0, 'rating distribution')"
      ]
     },
     "execution_count": 35,
     "metadata": {},
     "output_type": "execute_result"
    },
    {
     "data": {
      "image/png": "[encoded data removed]",
      "text/plain": [
       "<Figure size 640x480 with 1 Axes>"
      ]
     },
     "metadata": {},
     "output_type": "display_data"
    }
   ],
   "source": [
    "plt.hist(data[\"rate\"],bins= 5)\n",
    "plt.title(\"rating distribution\")"
   ]
  },
  {
   "cell_type": "markdown",
   "id": "97b6498a-32aa-465c-a469-6cd29c93aad3",
   "metadata": {},
   "source": [
    "##### conclusion - the majority restaurant received  3.5 to 4.0 rating "
   ]
  },
  {
   "cell_type": "markdown",
   "id": "8f4bba59-80af-4c6c-a4b5-d0a82b735f51",
   "metadata": {},
   "source": [
    "# average order by spending by couple 👫 "
   ]
  },
  {
   "cell_type": "code",
   "execution_count": 39,
   "id": "16a57703-0bbf-4489-b63b-66210d095eca",
   "metadata": {},
   "outputs": [
    {
     "data": {
      "text/plain": [
       "<Axes: xlabel='approx_cost(for two people)', ylabel='count'>"
      ]
     },
     "execution_count": 39,
     "metadata": {},
     "output_type": "execute_result"
    },
    {
     "data": {
      "image/png": "[encoded data removed]",
      "text/plain": [
       "<Figure size 640x480 with 1 Axes>"
      ]
     },
     "metadata": {},
     "output_type": "display_data"
    }
   ],
   "source": [
    "couple_data= data[\"approx_cost(for two people)\"]\n",
    "sns.countplot(x= couple_data,hue=couple_data)"
   ]
  },
  {
   "cell_type": "markdown",
   "id": "ace32cb6-bee5-498c-8cab-4c4f68f50409",
   "metadata": {},
   "source": [
    "##### conclusion - the majority of couples prefer approximate cost is around 300"
   ]
  },
  {
   "cell_type": "markdown",
   "id": "f6b33fd6-efa7-4132-8402-9fef3e2f095a",
   "metadata": {},
   "source": [
    "# which mode received maximum ratting "
   ]
  },
  {
   "cell_type": "code",
   "execution_count": 43,
   "id": "0f890d91-c7b8-4ad0-81b2-e21f7fff2139",
   "metadata": {},
   "outputs": [
    {
     "data": {
      "text/plain": [
       "<Axes: xlabel='online_order', ylabel='rate'>"
      ]
     },
     "execution_count": 43,
     "metadata": {},
     "output_type": "execute_result"
    },
    {
     "data": {
      "image/png": "[encoded data removed]",
      "text/plain": [
       "<Figure size 500x300 with 1 Axes>"
      ]
     },
     "metadata": {},
     "output_type": "display_data"
    }
   ],
   "source": [
    "plt.figure(figsize=(5,3))\n",
    "sns.boxplot(x = 'online_order' , y = 'rate' , data=data)"
   ]
  },
  {
   "cell_type": "markdown",
   "id": "5f918de9-002d-4297-9aee-47f90767c355",
   "metadata": {},
   "source": [
    "conclusion - offline order getting lower ratting with comparison to two online ratting"
   ]
  },
  {
   "cell_type": "markdown",
   "id": "74a2cf20-3192-491d-a2e4-3387397ba2ae",
   "metadata": {},
   "source": [
    "#  heatmap"
   ]
  },
  {
   "cell_type": "code",
   "execution_count": 47,
   "id": "3573b667-b1b4-4d6f-b005-0179e8c0fa8e",
   "metadata": {},
   "outputs": [
    {
     "data": {
      "text/html": [
       "<div>\n",
       "<style scoped>\n",
       "    .dataframe tbody tr th:only-of-type {\n",
       "        vertical-align: middle;\n",
       "    }\n",
       "\n",
       "    .dataframe tbody tr th {\n",
       "        vertical-align: top;\n",
       "    }\n",
       "\n",
       "    .dataframe thead th {\n",
       "        text-align: right;\n",
       "    }\n",
       "</style>\n",
       "<table border=\"1\" class=\"dataframe\">\n",
       "  <thead>\n",
       "    <tr style=\"text-align: right;\">\n",
       "      <th></th>\n",
       "      <th>name</th>\n",
       "      <th>online_order</th>\n",
       "      <th>book_table</th>\n",
       "      <th>rate</th>\n",
       "      <th>votes</th>\n",
       "      <th>approx_cost(for two people)</th>\n",
       "      <th>listed_in(type)</th>\n",
       "    </tr>\n",
       "  </thead>\n",
       "  <tbody>\n",
       "    <tr>\n",
       "      <th>0</th>\n",
       "      <td>Jalsa</td>\n",
       "      <td>Yes</td>\n",
       "      <td>Yes</td>\n",
       "      <td>4.1</td>\n",
       "      <td>775</td>\n",
       "      <td>800</td>\n",
       "      <td>Buffet</td>\n",
       "    </tr>\n",
       "  </tbody>\n",
       "</table>\n",
       "</div>"
      ],
      "text/plain": [
       "    name online_order book_table  rate  votes  approx_cost(for two people)  \\\n",
       "0  Jalsa          Yes        Yes   4.1    775                          800   \n",
       "\n",
       "  listed_in(type)  \n",
       "0          Buffet  "
      ]
     },
     "execution_count": 47,
     "metadata": {},
     "output_type": "execute_result"
    }
   ],
   "source": [
    "data.head(1)"
   ]
  },
  {
   "cell_type": "code",
   "execution_count": 49,
   "id": "e9f7ebdf-f82d-4c35-ac41-9905751e7893",
   "metadata": {},
   "outputs": [],
   "source": [
    "pivot = data.pivot_table(index=\"listed_in(type)\",columns=\"online_order\", aggfunc=\"size\",fill_value=0)"
   ]
  },
  {
   "cell_type": "code",
   "execution_count": 51,
   "id": "da3796a8-ca85-4212-922d-3666b288fc7f",
   "metadata": {},
   "outputs": [
    {
     "data": {
      "image/png": "[encoded data removed]",
      "text/plain": [
       "<Figure size 1000x500 with 2 Axes>"
      ]
     },
     "metadata": {},
     "output_type": "display_data"
    }
   ],
   "source": [
    "plt.figure(figsize=(10,5))\n",
    "sns.heatmap(pivot,annot=True,cmap=\"YlGnBu\", fmt=\"d\")\n",
    "plt.title(\"heatmap\")\n",
    "plt.xlabel('online order')\n",
    "plt.ylabel('restaurant type')\n",
    "plt.show()\n"
   ]
  },
  {
   "cell_type": "markdown",
   "id": "a4ffeccf-19d2-49d4-89c7-401b94e349a8",
   "metadata": {},
   "source": [
    "### colclusion - dinning restaurant primarily accept offline orders.where as cafes primarily accept online orders. this suggests clients preferred offline orders in person at dining restaurant but prefer online order at cafes."
   ]
  },
  {
   "cell_type": "code",
   "execution_count": null,
   "id": "ebf58bb8-88e4-40d3-8ccd-a556859a2c29",
   "metadata": {},
   "outputs": [],
   "source": []
  }
 ],
 "metadata": {
  "kernelspec": {
   "display_name": "Python 3 (ipykernel)",
   "language": "python",
   "name": "python3"
  },
  "language_info": {
   "codemirror_mode": {
    "name": "ipython",
    "version": 3
   },
   "file_extension": ".py",
   "mimetype": "text/x-python",
   "name": "python",
   "nbconvert_exporter": "python",
   "pygments_lexer": "ipython3",
   "version": "3.12.4"
  }
 },
 "nbformat": 4,
 "nbformat_minor": 5
}
